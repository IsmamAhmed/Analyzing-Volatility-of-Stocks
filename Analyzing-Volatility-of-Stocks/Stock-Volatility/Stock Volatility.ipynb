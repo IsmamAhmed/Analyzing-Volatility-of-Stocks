{
 "cells": [
  {
   "cell_type": "markdown",
   "id": "da19aded",
   "metadata": {},
   "source": [
    "# Calculating the relative volatility of certain NYSE/Nasdaq stocks"
   ]
  },
  {
   "cell_type": "markdown",
   "id": "cd1009ed",
   "metadata": {},
   "source": [
    "#### Importing neccesary libraries"
   ]
  },
  {
   "cell_type": "code",
   "execution_count": 1,
   "id": "56d22b4e",
   "metadata": {},
   "outputs": [],
   "source": [
    "import pandas as pd\n",
    "import matplotlib.pyplot as plt"
   ]
  },
  {
   "cell_type": "markdown",
   "id": "c6bc536f",
   "metadata": {},
   "source": [
    "#### Reading the csv files containing the historical trading data for Apple, Alibaba, and Enbridge stocks"
   ]
  },
  {
   "cell_type": "code",
   "execution_count": 60,
   "id": "ca719300",
   "metadata": {},
   "outputs": [],
   "source": [
    "aapl_df = pd.read_csv(r\"C:\\Users\\16478\\Desktop\\Asg1\\AAPL.csv\")\n",
    "baba_df = pd.read_csv(r\"C:\\Users\\16478\\Desktop\\Asg1\\BABA.csv\")\n",
    "enb_df = pd.read_csv(r\"C:\\Users\\16478\\Desktop\\Asg1\\ENB.csv\")"
   ]
  },
  {
   "cell_type": "markdown",
   "id": "ed2975ef",
   "metadata": {},
   "source": [
    "#### What is the coefficient of variation for Apple?"
   ]
  },
  {
   "cell_type": "code",
   "execution_count": 50,
   "id": "94ba72d0",
   "metadata": {},
   "outputs": [
    {
     "data": {
      "text/html": [
       "<div>\n",
       "<style scoped>\n",
       "    .dataframe tbody tr th:only-of-type {\n",
       "        vertical-align: middle;\n",
       "    }\n",
       "\n",
       "    .dataframe tbody tr th {\n",
       "        vertical-align: top;\n",
       "    }\n",
       "\n",
       "    .dataframe thead th {\n",
       "        text-align: right;\n",
       "    }\n",
       "</style>\n",
       "<table border=\"1\" class=\"dataframe\">\n",
       "  <thead>\n",
       "    <tr style=\"text-align: right;\">\n",
       "      <th></th>\n",
       "      <th>Date</th>\n",
       "      <th>Open</th>\n",
       "      <th>High</th>\n",
       "      <th>Low</th>\n",
       "      <th>Close</th>\n",
       "      <th>Adj Close</th>\n",
       "      <th>Volume</th>\n",
       "      <th>Year</th>\n",
       "    </tr>\n",
       "  </thead>\n",
       "  <tbody>\n",
       "    <tr>\n",
       "      <th>9594</th>\n",
       "      <td>2019-01-02</td>\n",
       "      <td>154.889999</td>\n",
       "      <td>158.850006</td>\n",
       "      <td>154.229996</td>\n",
       "      <td>157.919998</td>\n",
       "      <td>155.214005</td>\n",
       "      <td>37039700</td>\n",
       "      <td>2019</td>\n",
       "    </tr>\n",
       "    <tr>\n",
       "      <th>9595</th>\n",
       "      <td>2019-01-03</td>\n",
       "      <td>143.979996</td>\n",
       "      <td>145.720001</td>\n",
       "      <td>142.000000</td>\n",
       "      <td>142.190002</td>\n",
       "      <td>139.753540</td>\n",
       "      <td>91312200</td>\n",
       "      <td>2019</td>\n",
       "    </tr>\n",
       "    <tr>\n",
       "      <th>9596</th>\n",
       "      <td>2019-01-04</td>\n",
       "      <td>144.529999</td>\n",
       "      <td>148.550003</td>\n",
       "      <td>143.800003</td>\n",
       "      <td>148.259995</td>\n",
       "      <td>145.719513</td>\n",
       "      <td>58607100</td>\n",
       "      <td>2019</td>\n",
       "    </tr>\n",
       "    <tr>\n",
       "      <th>9597</th>\n",
       "      <td>2019-01-07</td>\n",
       "      <td>148.699997</td>\n",
       "      <td>148.830002</td>\n",
       "      <td>145.899994</td>\n",
       "      <td>147.929993</td>\n",
       "      <td>145.395203</td>\n",
       "      <td>54777800</td>\n",
       "      <td>2019</td>\n",
       "    </tr>\n",
       "    <tr>\n",
       "      <th>9598</th>\n",
       "      <td>2019-01-08</td>\n",
       "      <td>149.559998</td>\n",
       "      <td>151.820007</td>\n",
       "      <td>148.520004</td>\n",
       "      <td>150.750000</td>\n",
       "      <td>148.166870</td>\n",
       "      <td>41025300</td>\n",
       "      <td>2019</td>\n",
       "    </tr>\n",
       "    <tr>\n",
       "      <th>...</th>\n",
       "      <td>...</td>\n",
       "      <td>...</td>\n",
       "      <td>...</td>\n",
       "      <td>...</td>\n",
       "      <td>...</td>\n",
       "      <td>...</td>\n",
       "      <td>...</td>\n",
       "      <td>...</td>\n",
       "    </tr>\n",
       "    <tr>\n",
       "      <th>9841</th>\n",
       "      <td>2019-12-24</td>\n",
       "      <td>284.690002</td>\n",
       "      <td>284.890015</td>\n",
       "      <td>282.920013</td>\n",
       "      <td>284.269989</td>\n",
       "      <td>283.596924</td>\n",
       "      <td>12119700</td>\n",
       "      <td>2019</td>\n",
       "    </tr>\n",
       "    <tr>\n",
       "      <th>9842</th>\n",
       "      <td>2019-12-26</td>\n",
       "      <td>284.820007</td>\n",
       "      <td>289.980011</td>\n",
       "      <td>284.700012</td>\n",
       "      <td>289.910004</td>\n",
       "      <td>289.223602</td>\n",
       "      <td>23280300</td>\n",
       "      <td>2019</td>\n",
       "    </tr>\n",
       "    <tr>\n",
       "      <th>9843</th>\n",
       "      <td>2019-12-27</td>\n",
       "      <td>291.119995</td>\n",
       "      <td>293.970001</td>\n",
       "      <td>288.119995</td>\n",
       "      <td>289.799988</td>\n",
       "      <td>289.113831</td>\n",
       "      <td>36566500</td>\n",
       "      <td>2019</td>\n",
       "    </tr>\n",
       "    <tr>\n",
       "      <th>9844</th>\n",
       "      <td>2019-12-30</td>\n",
       "      <td>289.459991</td>\n",
       "      <td>292.690002</td>\n",
       "      <td>285.220001</td>\n",
       "      <td>291.519989</td>\n",
       "      <td>290.829773</td>\n",
       "      <td>36028600</td>\n",
       "      <td>2019</td>\n",
       "    </tr>\n",
       "    <tr>\n",
       "      <th>9845</th>\n",
       "      <td>2019-12-31</td>\n",
       "      <td>289.929993</td>\n",
       "      <td>293.679993</td>\n",
       "      <td>289.519989</td>\n",
       "      <td>293.649994</td>\n",
       "      <td>292.954712</td>\n",
       "      <td>25201400</td>\n",
       "      <td>2019</td>\n",
       "    </tr>\n",
       "  </tbody>\n",
       "</table>\n",
       "<p>252 rows × 8 columns</p>\n",
       "</div>"
      ],
      "text/plain": [
       "            Date        Open        High         Low       Close   Adj Close  \\\n",
       "9594  2019-01-02  154.889999  158.850006  154.229996  157.919998  155.214005   \n",
       "9595  2019-01-03  143.979996  145.720001  142.000000  142.190002  139.753540   \n",
       "9596  2019-01-04  144.529999  148.550003  143.800003  148.259995  145.719513   \n",
       "9597  2019-01-07  148.699997  148.830002  145.899994  147.929993  145.395203   \n",
       "9598  2019-01-08  149.559998  151.820007  148.520004  150.750000  148.166870   \n",
       "...          ...         ...         ...         ...         ...         ...   \n",
       "9841  2019-12-24  284.690002  284.890015  282.920013  284.269989  283.596924   \n",
       "9842  2019-12-26  284.820007  289.980011  284.700012  289.910004  289.223602   \n",
       "9843  2019-12-27  291.119995  293.970001  288.119995  289.799988  289.113831   \n",
       "9844  2019-12-30  289.459991  292.690002  285.220001  291.519989  290.829773   \n",
       "9845  2019-12-31  289.929993  293.679993  289.519989  293.649994  292.954712   \n",
       "\n",
       "        Volume  Year  \n",
       "9594  37039700  2019  \n",
       "9595  91312200  2019  \n",
       "9596  58607100  2019  \n",
       "9597  54777800  2019  \n",
       "9598  41025300  2019  \n",
       "...        ...   ...  \n",
       "9841  12119700  2019  \n",
       "9842  23280300  2019  \n",
       "9843  36566500  2019  \n",
       "9844  36028600  2019  \n",
       "9845  25201400  2019  \n",
       "\n",
       "[252 rows x 8 columns]"
      ]
     },
     "execution_count": 50,
     "metadata": {},
     "output_type": "execute_result"
    }
   ],
   "source": [
    "aapl_df2 = aapl_df.loc[aapl_df[\"Date\"].between(\"2019-01-01\", \"2019-12-31\")] \n",
    "aapl_df2"
   ]
  },
  {
   "cell_type": "code",
   "execution_count": 52,
   "id": "38203ff9",
   "metadata": {},
   "outputs": [
    {
     "data": {
      "text/html": [
       "<div>\n",
       "<style scoped>\n",
       "    .dataframe tbody tr th:only-of-type {\n",
       "        vertical-align: middle;\n",
       "    }\n",
       "\n",
       "    .dataframe tbody tr th {\n",
       "        vertical-align: top;\n",
       "    }\n",
       "\n",
       "    .dataframe thead th {\n",
       "        text-align: right;\n",
       "    }\n",
       "</style>\n",
       "<table border=\"1\" class=\"dataframe\">\n",
       "  <thead>\n",
       "    <tr style=\"text-align: right;\">\n",
       "      <th></th>\n",
       "      <th>Open</th>\n",
       "      <th>High</th>\n",
       "      <th>Low</th>\n",
       "      <th>Close</th>\n",
       "      <th>Adj Close</th>\n",
       "      <th>Volume</th>\n",
       "    </tr>\n",
       "  </thead>\n",
       "  <tbody>\n",
       "    <tr>\n",
       "      <th>count</th>\n",
       "      <td>252.000000</td>\n",
       "      <td>252.000000</td>\n",
       "      <td>252.000000</td>\n",
       "      <td>252.000000</td>\n",
       "      <td>252.000000</td>\n",
       "      <td>2.520000e+02</td>\n",
       "    </tr>\n",
       "    <tr>\n",
       "      <th>mean</th>\n",
       "      <td>207.869087</td>\n",
       "      <td>209.831707</td>\n",
       "      <td>206.271627</td>\n",
       "      <td>208.255952</td>\n",
       "      <td>206.526379</td>\n",
       "      <td>2.803096e+07</td>\n",
       "    </tr>\n",
       "    <tr>\n",
       "      <th>std</th>\n",
       "      <td>34.373583</td>\n",
       "      <td>34.485503</td>\n",
       "      <td>34.305738</td>\n",
       "      <td>34.538978</td>\n",
       "      <td>35.107818</td>\n",
       "      <td>1.082408e+07</td>\n",
       "    </tr>\n",
       "    <tr>\n",
       "      <th>min</th>\n",
       "      <td>143.979996</td>\n",
       "      <td>145.720001</td>\n",
       "      <td>142.000000</td>\n",
       "      <td>142.190002</td>\n",
       "      <td>139.753540</td>\n",
       "      <td>1.136200e+07</td>\n",
       "    </tr>\n",
       "    <tr>\n",
       "      <th>25%</th>\n",
       "      <td>185.127502</td>\n",
       "      <td>187.832500</td>\n",
       "      <td>183.517506</td>\n",
       "      <td>186.019997</td>\n",
       "      <td>183.948700</td>\n",
       "      <td>2.097520e+07</td>\n",
       "    </tr>\n",
       "    <tr>\n",
       "      <th>50%</th>\n",
       "      <td>203.139999</td>\n",
       "      <td>204.715004</td>\n",
       "      <td>201.595001</td>\n",
       "      <td>203.014999</td>\n",
       "      <td>201.301483</td>\n",
       "      <td>2.587750e+07</td>\n",
       "    </tr>\n",
       "    <tr>\n",
       "      <th>75%</th>\n",
       "      <td>223.494999</td>\n",
       "      <td>225.040001</td>\n",
       "      <td>221.307495</td>\n",
       "      <td>223.684998</td>\n",
       "      <td>222.487419</td>\n",
       "      <td>3.201988e+07</td>\n",
       "    </tr>\n",
       "    <tr>\n",
       "      <th>max</th>\n",
       "      <td>291.119995</td>\n",
       "      <td>293.970001</td>\n",
       "      <td>289.519989</td>\n",
       "      <td>293.649994</td>\n",
       "      <td>292.954712</td>\n",
       "      <td>9.131220e+07</td>\n",
       "    </tr>\n",
       "  </tbody>\n",
       "</table>\n",
       "</div>"
      ],
      "text/plain": [
       "             Open        High         Low       Close   Adj Close  \\\n",
       "count  252.000000  252.000000  252.000000  252.000000  252.000000   \n",
       "mean   207.869087  209.831707  206.271627  208.255952  206.526379   \n",
       "std     34.373583   34.485503   34.305738   34.538978   35.107818   \n",
       "min    143.979996  145.720001  142.000000  142.190002  139.753540   \n",
       "25%    185.127502  187.832500  183.517506  186.019997  183.948700   \n",
       "50%    203.139999  204.715004  201.595001  203.014999  201.301483   \n",
       "75%    223.494999  225.040001  221.307495  223.684998  222.487419   \n",
       "max    291.119995  293.970001  289.519989  293.649994  292.954712   \n",
       "\n",
       "             Volume  \n",
       "count  2.520000e+02  \n",
       "mean   2.803096e+07  \n",
       "std    1.082408e+07  \n",
       "min    1.136200e+07  \n",
       "25%    2.097520e+07  \n",
       "50%    2.587750e+07  \n",
       "75%    3.201988e+07  \n",
       "max    9.131220e+07  "
      ]
     },
     "execution_count": 52,
     "metadata": {},
     "output_type": "execute_result"
    }
   ],
   "source": [
    "describe_table = aapl_df2.describe()\n",
    "describe_table"
   ]
  },
  {
   "cell_type": "code",
   "execution_count": 111,
   "id": "d1014817",
   "metadata": {},
   "outputs": [
    {
     "data": {
      "text/plain": [
       "208.25595219930014"
      ]
     },
     "execution_count": 111,
     "metadata": {},
     "output_type": "execute_result"
    }
   ],
   "source": [
    "aapl_mean = describe_table.loc['mean', 'Close']\n",
    "aapl_mean"
   ]
  },
  {
   "cell_type": "code",
   "execution_count": 54,
   "id": "5299bfd3",
   "metadata": {},
   "outputs": [
    {
     "data": {
      "text/plain": [
       "34.538978002479745"
      ]
     },
     "execution_count": 54,
     "metadata": {},
     "output_type": "execute_result"
    }
   ],
   "source": [
    "aapl_std = describe_table.loc['std', 'Close']\n",
    "aapl_std"
   ]
  },
  {
   "cell_type": "code",
   "execution_count": 73,
   "id": "bc5a7adf",
   "metadata": {},
   "outputs": [
    {
     "data": {
      "text/plain": [
       "0.16584869550055442"
      ]
     },
     "execution_count": 73,
     "metadata": {},
     "output_type": "execute_result"
    }
   ],
   "source": [
    "aapl_cv = (aapl_std / aapl_mean)\n",
    "aapl_cv"
   ]
  },
  {
   "cell_type": "markdown",
   "id": "8b033d9c",
   "metadata": {},
   "source": [
    "#### What is the coefficient of variation for Alibaba?"
   ]
  },
  {
   "cell_type": "code",
   "execution_count": 67,
   "id": "32d41d19",
   "metadata": {},
   "outputs": [
    {
     "data": {
      "text/html": [
       "<div>\n",
       "<style scoped>\n",
       "    .dataframe tbody tr th:only-of-type {\n",
       "        vertical-align: middle;\n",
       "    }\n",
       "\n",
       "    .dataframe tbody tr th {\n",
       "        vertical-align: top;\n",
       "    }\n",
       "\n",
       "    .dataframe thead th {\n",
       "        text-align: right;\n",
       "    }\n",
       "</style>\n",
       "<table border=\"1\" class=\"dataframe\">\n",
       "  <thead>\n",
       "    <tr style=\"text-align: right;\">\n",
       "      <th></th>\n",
       "      <th>Date</th>\n",
       "      <th>Open</th>\n",
       "      <th>High</th>\n",
       "      <th>Low</th>\n",
       "      <th>Close</th>\n",
       "      <th>Adj Close</th>\n",
       "      <th>Volume</th>\n",
       "    </tr>\n",
       "  </thead>\n",
       "  <tbody>\n",
       "    <tr>\n",
       "      <th>1078</th>\n",
       "      <td>2019-01-02</td>\n",
       "      <td>134.130005</td>\n",
       "      <td>137.748993</td>\n",
       "      <td>133.029999</td>\n",
       "      <td>136.699997</td>\n",
       "      <td>136.699997</td>\n",
       "      <td>16708400</td>\n",
       "    </tr>\n",
       "    <tr>\n",
       "      <th>1079</th>\n",
       "      <td>2019-01-03</td>\n",
       "      <td>134.270004</td>\n",
       "      <td>134.869995</td>\n",
       "      <td>129.830002</td>\n",
       "      <td>130.600006</td>\n",
       "      <td>130.600006</td>\n",
       "      <td>19531300</td>\n",
       "    </tr>\n",
       "    <tr>\n",
       "      <th>1080</th>\n",
       "      <td>2019-01-04</td>\n",
       "      <td>134.259995</td>\n",
       "      <td>141.080002</td>\n",
       "      <td>133.660004</td>\n",
       "      <td>139.750000</td>\n",
       "      <td>139.750000</td>\n",
       "      <td>22845400</td>\n",
       "    </tr>\n",
       "    <tr>\n",
       "      <th>1081</th>\n",
       "      <td>2019-01-07</td>\n",
       "      <td>140.550003</td>\n",
       "      <td>144.080002</td>\n",
       "      <td>139.009995</td>\n",
       "      <td>143.100006</td>\n",
       "      <td>143.100006</td>\n",
       "      <td>17239000</td>\n",
       "    </tr>\n",
       "    <tr>\n",
       "      <th>1082</th>\n",
       "      <td>2019-01-08</td>\n",
       "      <td>145.000000</td>\n",
       "      <td>147.550003</td>\n",
       "      <td>142.059998</td>\n",
       "      <td>146.789993</td>\n",
       "      <td>146.789993</td>\n",
       "      <td>16487600</td>\n",
       "    </tr>\n",
       "    <tr>\n",
       "      <th>...</th>\n",
       "      <td>...</td>\n",
       "      <td>...</td>\n",
       "      <td>...</td>\n",
       "      <td>...</td>\n",
       "      <td>...</td>\n",
       "      <td>...</td>\n",
       "      <td>...</td>\n",
       "    </tr>\n",
       "    <tr>\n",
       "      <th>1325</th>\n",
       "      <td>2019-12-24</td>\n",
       "      <td>215.009995</td>\n",
       "      <td>215.429993</td>\n",
       "      <td>213.350006</td>\n",
       "      <td>214.259995</td>\n",
       "      <td>214.259995</td>\n",
       "      <td>5523000</td>\n",
       "    </tr>\n",
       "    <tr>\n",
       "      <th>1326</th>\n",
       "      <td>2019-12-26</td>\n",
       "      <td>214.649994</td>\n",
       "      <td>216.990005</td>\n",
       "      <td>214.330002</td>\n",
       "      <td>216.380005</td>\n",
       "      <td>216.380005</td>\n",
       "      <td>6907100</td>\n",
       "    </tr>\n",
       "    <tr>\n",
       "      <th>1327</th>\n",
       "      <td>2019-12-27</td>\n",
       "      <td>217.990005</td>\n",
       "      <td>218.110001</td>\n",
       "      <td>215.169998</td>\n",
       "      <td>215.470001</td>\n",
       "      <td>215.470001</td>\n",
       "      <td>11674200</td>\n",
       "    </tr>\n",
       "    <tr>\n",
       "      <th>1328</th>\n",
       "      <td>2019-12-30</td>\n",
       "      <td>215.779999</td>\n",
       "      <td>215.779999</td>\n",
       "      <td>211.759995</td>\n",
       "      <td>212.910004</td>\n",
       "      <td>212.910004</td>\n",
       "      <td>8732600</td>\n",
       "    </tr>\n",
       "    <tr>\n",
       "      <th>1329</th>\n",
       "      <td>2019-12-31</td>\n",
       "      <td>212.000000</td>\n",
       "      <td>213.639999</td>\n",
       "      <td>210.729996</td>\n",
       "      <td>212.100006</td>\n",
       "      <td>212.100006</td>\n",
       "      <td>6773600</td>\n",
       "    </tr>\n",
       "  </tbody>\n",
       "</table>\n",
       "<p>252 rows × 7 columns</p>\n",
       "</div>"
      ],
      "text/plain": [
       "            Date        Open        High         Low       Close   Adj Close  \\\n",
       "1078  2019-01-02  134.130005  137.748993  133.029999  136.699997  136.699997   \n",
       "1079  2019-01-03  134.270004  134.869995  129.830002  130.600006  130.600006   \n",
       "1080  2019-01-04  134.259995  141.080002  133.660004  139.750000  139.750000   \n",
       "1081  2019-01-07  140.550003  144.080002  139.009995  143.100006  143.100006   \n",
       "1082  2019-01-08  145.000000  147.550003  142.059998  146.789993  146.789993   \n",
       "...          ...         ...         ...         ...         ...         ...   \n",
       "1325  2019-12-24  215.009995  215.429993  213.350006  214.259995  214.259995   \n",
       "1326  2019-12-26  214.649994  216.990005  214.330002  216.380005  216.380005   \n",
       "1327  2019-12-27  217.990005  218.110001  215.169998  215.470001  215.470001   \n",
       "1328  2019-12-30  215.779999  215.779999  211.759995  212.910004  212.910004   \n",
       "1329  2019-12-31  212.000000  213.639999  210.729996  212.100006  212.100006   \n",
       "\n",
       "        Volume  \n",
       "1078  16708400  \n",
       "1079  19531300  \n",
       "1080  22845400  \n",
       "1081  17239000  \n",
       "1082  16487600  \n",
       "...        ...  \n",
       "1325   5523000  \n",
       "1326   6907100  \n",
       "1327  11674200  \n",
       "1328   8732600  \n",
       "1329   6773600  \n",
       "\n",
       "[252 rows x 7 columns]"
      ]
     },
     "execution_count": 67,
     "metadata": {},
     "output_type": "execute_result"
    }
   ],
   "source": [
    "baba_df2 = baba_df.loc[baba_df['Date'].between(\"2019-01-01\", \"2019-12-31\")]\n",
    "baba_df2"
   ]
  },
  {
   "cell_type": "code",
   "execution_count": 69,
   "id": "a0df2e7a",
   "metadata": {},
   "outputs": [
    {
     "data": {
      "text/plain": [
       "175.15642916967"
      ]
     },
     "execution_count": 69,
     "metadata": {},
     "output_type": "execute_result"
    }
   ],
   "source": [
    "baba_mean = baba_df2['Close'].mean()\n",
    "baba_mean"
   ]
  },
  {
   "cell_type": "code",
   "execution_count": 70,
   "id": "a706e59a",
   "metadata": {},
   "outputs": [
    {
     "data": {
      "text/plain": [
       "14.821606203832625"
      ]
     },
     "execution_count": 70,
     "metadata": {},
     "output_type": "execute_result"
    }
   ],
   "source": [
    "baba_std = baba_df2['Close'].std()\n",
    "baba_std"
   ]
  },
  {
   "cell_type": "code",
   "execution_count": 72,
   "id": "1fc7a91b",
   "metadata": {},
   "outputs": [
    {
     "data": {
      "text/plain": [
       "0.08461925305336795"
      ]
     },
     "execution_count": 72,
     "metadata": {},
     "output_type": "execute_result"
    }
   ],
   "source": [
    "baba_cv = (baba_std / baba_mean)\n",
    "baba_cv"
   ]
  },
  {
   "cell_type": "markdown",
   "id": "7c50faaf",
   "metadata": {},
   "source": [
    "#### What is the coefficient of variation for Enbridge?"
   ]
  },
  {
   "cell_type": "code",
   "execution_count": 75,
   "id": "d14905ec",
   "metadata": {},
   "outputs": [
    {
     "data": {
      "text/html": [
       "<div>\n",
       "<style scoped>\n",
       "    .dataframe tbody tr th:only-of-type {\n",
       "        vertical-align: middle;\n",
       "    }\n",
       "\n",
       "    .dataframe tbody tr th {\n",
       "        vertical-align: top;\n",
       "    }\n",
       "\n",
       "    .dataframe thead th {\n",
       "        text-align: right;\n",
       "    }\n",
       "</style>\n",
       "<table border=\"1\" class=\"dataframe\">\n",
       "  <thead>\n",
       "    <tr style=\"text-align: right;\">\n",
       "      <th></th>\n",
       "      <th>Date</th>\n",
       "      <th>Open</th>\n",
       "      <th>High</th>\n",
       "      <th>Low</th>\n",
       "      <th>Close</th>\n",
       "      <th>Adj Close</th>\n",
       "      <th>Volume</th>\n",
       "    </tr>\n",
       "  </thead>\n",
       "  <tbody>\n",
       "    <tr>\n",
       "      <th>8772</th>\n",
       "      <td>2019-01-02</td>\n",
       "      <td>30.740000</td>\n",
       "      <td>31.879999</td>\n",
       "      <td>30.540001</td>\n",
       "      <td>31.580000</td>\n",
       "      <td>28.554594</td>\n",
       "      <td>3921500</td>\n",
       "    </tr>\n",
       "    <tr>\n",
       "      <th>8773</th>\n",
       "      <td>2019-01-03</td>\n",
       "      <td>31.559999</td>\n",
       "      <td>31.950001</td>\n",
       "      <td>31.209999</td>\n",
       "      <td>31.750000</td>\n",
       "      <td>28.708307</td>\n",
       "      <td>4681500</td>\n",
       "    </tr>\n",
       "    <tr>\n",
       "      <th>8774</th>\n",
       "      <td>2019-01-04</td>\n",
       "      <td>32.180000</td>\n",
       "      <td>32.669998</td>\n",
       "      <td>32.080002</td>\n",
       "      <td>32.619999</td>\n",
       "      <td>29.494959</td>\n",
       "      <td>4488500</td>\n",
       "    </tr>\n",
       "    <tr>\n",
       "      <th>8775</th>\n",
       "      <td>2019-01-07</td>\n",
       "      <td>33.000000</td>\n",
       "      <td>33.639999</td>\n",
       "      <td>32.759998</td>\n",
       "      <td>33.509998</td>\n",
       "      <td>30.299696</td>\n",
       "      <td>6377400</td>\n",
       "    </tr>\n",
       "    <tr>\n",
       "      <th>8776</th>\n",
       "      <td>2019-01-08</td>\n",
       "      <td>33.849998</td>\n",
       "      <td>34.430000</td>\n",
       "      <td>33.810001</td>\n",
       "      <td>34.200001</td>\n",
       "      <td>30.923597</td>\n",
       "      <td>5769100</td>\n",
       "    </tr>\n",
       "    <tr>\n",
       "      <th>...</th>\n",
       "      <td>...</td>\n",
       "      <td>...</td>\n",
       "      <td>...</td>\n",
       "      <td>...</td>\n",
       "      <td>...</td>\n",
       "      <td>...</td>\n",
       "      <td>...</td>\n",
       "    </tr>\n",
       "    <tr>\n",
       "      <th>9019</th>\n",
       "      <td>2019-12-24</td>\n",
       "      <td>39.540001</td>\n",
       "      <td>39.599998</td>\n",
       "      <td>39.380001</td>\n",
       "      <td>39.560001</td>\n",
       "      <td>38.815838</td>\n",
       "      <td>939000</td>\n",
       "    </tr>\n",
       "    <tr>\n",
       "      <th>9020</th>\n",
       "      <td>2019-12-26</td>\n",
       "      <td>39.560001</td>\n",
       "      <td>39.820000</td>\n",
       "      <td>39.490002</td>\n",
       "      <td>39.669998</td>\n",
       "      <td>38.923767</td>\n",
       "      <td>855700</td>\n",
       "    </tr>\n",
       "    <tr>\n",
       "      <th>9021</th>\n",
       "      <td>2019-12-27</td>\n",
       "      <td>39.770000</td>\n",
       "      <td>39.860001</td>\n",
       "      <td>39.509998</td>\n",
       "      <td>39.590000</td>\n",
       "      <td>38.845272</td>\n",
       "      <td>1366700</td>\n",
       "    </tr>\n",
       "    <tr>\n",
       "      <th>9022</th>\n",
       "      <td>2019-12-30</td>\n",
       "      <td>39.630001</td>\n",
       "      <td>39.660000</td>\n",
       "      <td>39.389999</td>\n",
       "      <td>39.549999</td>\n",
       "      <td>38.806026</td>\n",
       "      <td>2332900</td>\n",
       "    </tr>\n",
       "    <tr>\n",
       "      <th>9023</th>\n",
       "      <td>2019-12-31</td>\n",
       "      <td>39.549999</td>\n",
       "      <td>39.820000</td>\n",
       "      <td>39.529999</td>\n",
       "      <td>39.770000</td>\n",
       "      <td>39.021889</td>\n",
       "      <td>1876600</td>\n",
       "    </tr>\n",
       "  </tbody>\n",
       "</table>\n",
       "<p>252 rows × 7 columns</p>\n",
       "</div>"
      ],
      "text/plain": [
       "            Date       Open       High        Low      Close  Adj Close  \\\n",
       "8772  2019-01-02  30.740000  31.879999  30.540001  31.580000  28.554594   \n",
       "8773  2019-01-03  31.559999  31.950001  31.209999  31.750000  28.708307   \n",
       "8774  2019-01-04  32.180000  32.669998  32.080002  32.619999  29.494959   \n",
       "8775  2019-01-07  33.000000  33.639999  32.759998  33.509998  30.299696   \n",
       "8776  2019-01-08  33.849998  34.430000  33.810001  34.200001  30.923597   \n",
       "...          ...        ...        ...        ...        ...        ...   \n",
       "9019  2019-12-24  39.540001  39.599998  39.380001  39.560001  38.815838   \n",
       "9020  2019-12-26  39.560001  39.820000  39.490002  39.669998  38.923767   \n",
       "9021  2019-12-27  39.770000  39.860001  39.509998  39.590000  38.845272   \n",
       "9022  2019-12-30  39.630001  39.660000  39.389999  39.549999  38.806026   \n",
       "9023  2019-12-31  39.549999  39.820000  39.529999  39.770000  39.021889   \n",
       "\n",
       "       Volume  \n",
       "8772  3921500  \n",
       "8773  4681500  \n",
       "8774  4488500  \n",
       "8775  6377400  \n",
       "8776  5769100  \n",
       "...       ...  \n",
       "9019   939000  \n",
       "9020   855700  \n",
       "9021  1366700  \n",
       "9022  2332900  \n",
       "9023  1876600  \n",
       "\n",
       "[252 rows x 7 columns]"
      ]
     },
     "execution_count": 75,
     "metadata": {},
     "output_type": "execute_result"
    }
   ],
   "source": [
    "enb_df2 = enb_df.loc[enb_df['Date'].between(\"2019-01-01\", \"2019-12-31\")]\n",
    "enb_df2"
   ]
  },
  {
   "cell_type": "code",
   "execution_count": 76,
   "id": "5099f588",
   "metadata": {},
   "outputs": [
    {
     "data": {
      "text/plain": [
       "36.09734118173993"
      ]
     },
     "execution_count": 76,
     "metadata": {},
     "output_type": "execute_result"
    }
   ],
   "source": [
    "enb_mean = enb_df2['Close'].mean()\n",
    "enb_mean"
   ]
  },
  {
   "cell_type": "code",
   "execution_count": 77,
   "id": "31a55e0e",
   "metadata": {},
   "outputs": [
    {
     "data": {
      "text/plain": [
       "1.6057313580110404"
      ]
     },
     "execution_count": 77,
     "metadata": {},
     "output_type": "execute_result"
    }
   ],
   "source": [
    "enb_std = enb_df2['Close'].std()\n",
    "enb_std"
   ]
  },
  {
   "cell_type": "code",
   "execution_count": 78,
   "id": "8e932d82",
   "metadata": {},
   "outputs": [
    {
     "data": {
      "text/plain": [
       "0.044483369285472744"
      ]
     },
     "execution_count": 78,
     "metadata": {},
     "output_type": "execute_result"
    }
   ],
   "source": [
    "enb_cv = (enb_std / enb_mean)\n",
    "enb_cv"
   ]
  },
  {
   "cell_type": "markdown",
   "id": "0d13d4ba",
   "metadata": {},
   "source": [
    "#### Creating a data frame containing the coefficient of variation for all three stocks"
   ]
  },
  {
   "cell_type": "code",
   "execution_count": 80,
   "id": "b4e55706",
   "metadata": {
    "scrolled": true
   },
   "outputs": [
    {
     "data": {
      "text/html": [
       "<div>\n",
       "<style scoped>\n",
       "    .dataframe tbody tr th:only-of-type {\n",
       "        vertical-align: middle;\n",
       "    }\n",
       "\n",
       "    .dataframe tbody tr th {\n",
       "        vertical-align: top;\n",
       "    }\n",
       "\n",
       "    .dataframe thead th {\n",
       "        text-align: right;\n",
       "    }\n",
       "</style>\n",
       "<table border=\"1\" class=\"dataframe\">\n",
       "  <thead>\n",
       "    <tr style=\"text-align: right;\">\n",
       "      <th></th>\n",
       "      <th>Ticker</th>\n",
       "      <th>CV</th>\n",
       "    </tr>\n",
       "  </thead>\n",
       "  <tbody>\n",
       "    <tr>\n",
       "      <th>0</th>\n",
       "      <td>aapl</td>\n",
       "      <td>0.165849</td>\n",
       "    </tr>\n",
       "    <tr>\n",
       "      <th>1</th>\n",
       "      <td>baba</td>\n",
       "      <td>0.084619</td>\n",
       "    </tr>\n",
       "    <tr>\n",
       "      <th>2</th>\n",
       "      <td>enb</td>\n",
       "      <td>0.044483</td>\n",
       "    </tr>\n",
       "  </tbody>\n",
       "</table>\n",
       "</div>"
      ],
      "text/plain": [
       "  Ticker        CV\n",
       "0   aapl  0.165849\n",
       "1   baba  0.084619\n",
       "2    enb  0.044483"
      ]
     },
     "execution_count": 80,
     "metadata": {},
     "output_type": "execute_result"
    }
   ],
   "source": [
    "final_df = pd.DataFrame()\n",
    "final_df['Ticker'] = ['aapl', 'baba', 'enb']\n",
    "final_df['CV'] = [aapl_cv, baba_cv, enb_cv]\n",
    "final_df\n"
   ]
  },
  {
   "cell_type": "markdown",
   "id": "3c683a42",
   "metadata": {},
   "source": [
    "#### Saving the dataframe containing the coefficient of variation for all three stocks to a CSV file"
   ]
  },
  {
   "cell_type": "code",
   "execution_count": 83,
   "id": "70bb70d1",
   "metadata": {},
   "outputs": [],
   "source": [
    "final_df.to_csv(\"coefficient_of_variance.csv\", index=False)"
   ]
  },
  {
   "cell_type": "markdown",
   "id": "7cb0a67e",
   "metadata": {},
   "source": [
    "#### What is the covariance of the dataframe containing the three stocks?"
   ]
  },
  {
   "cell_type": "code",
   "execution_count": 110,
   "id": "c3fcff3a",
   "metadata": {},
   "outputs": [
    {
     "data": {
      "image/png": "[encoded data removed]",
      "text/plain": [
       "<Figure size 432x288 with 1 Axes>"
      ]
     },
     "metadata": {
      "needs_background": "light"
     },
     "output_type": "display_data"
    }
   ],
   "source": [
    "plt.xlabel('Tickers')\n",
    "plt.ylabel('CV')\n",
    "plt.plot(final_df['Ticker'], final_df['CV'])\n",
    "plt.show()\n",
    "\n",
    "# As seen in the graph below, there is a negative covariance"
   ]
  },
  {
   "cell_type": "markdown",
   "id": "7ffcd942",
   "metadata": {},
   "source": [
    "#### What is the most volatile and least volatile stock?"
   ]
  },
  {
   "cell_type": "code",
   "execution_count": 112,
   "id": "a4b63bdd",
   "metadata": {
    "scrolled": true
   },
   "outputs": [
    {
     "data": {
      "text/html": [
       "<div>\n",
       "<style scoped>\n",
       "    .dataframe tbody tr th:only-of-type {\n",
       "        vertical-align: middle;\n",
       "    }\n",
       "\n",
       "    .dataframe tbody tr th {\n",
       "        vertical-align: top;\n",
       "    }\n",
       "\n",
       "    .dataframe thead th {\n",
       "        text-align: right;\n",
       "    }\n",
       "</style>\n",
       "<table border=\"1\" class=\"dataframe\">\n",
       "  <thead>\n",
       "    <tr style=\"text-align: right;\">\n",
       "      <th></th>\n",
       "      <th>Ticker</th>\n",
       "      <th>CV</th>\n",
       "    </tr>\n",
       "  </thead>\n",
       "  <tbody>\n",
       "    <tr>\n",
       "      <th>0</th>\n",
       "      <td>aapl</td>\n",
       "      <td>0.165849</td>\n",
       "    </tr>\n",
       "    <tr>\n",
       "      <th>1</th>\n",
       "      <td>baba</td>\n",
       "      <td>0.084619</td>\n",
       "    </tr>\n",
       "    <tr>\n",
       "      <th>2</th>\n",
       "      <td>enb</td>\n",
       "      <td>0.044483</td>\n",
       "    </tr>\n",
       "  </tbody>\n",
       "</table>\n",
       "</div>"
      ],
      "text/plain": [
       "  Ticker        CV\n",
       "0   aapl  0.165849\n",
       "1   baba  0.084619\n",
       "2    enb  0.044483"
      ]
     },
     "execution_count": 112,
     "metadata": {},
     "output_type": "execute_result"
    }
   ],
   "source": [
    "final_df "
   ]
  },
  {
   "cell_type": "code",
   "execution_count": 133,
   "id": "f44e7e8f",
   "metadata": {},
   "outputs": [
    {
     "data": {
      "text/plain": [
       "'aapl'"
      ]
     },
     "execution_count": 133,
     "metadata": {},
     "output_type": "execute_result"
    }
   ],
   "source": [
    "df_max = final_df.nlargest(1, 'CV').iloc[0, 0]\n",
    "df_max\n",
    "\n",
    "#Most volatile stock is aapl"
   ]
  },
  {
   "cell_type": "code",
   "execution_count": 134,
   "id": "15716396",
   "metadata": {},
   "outputs": [
    {
     "data": {
      "text/plain": [
       "'enb'"
      ]
     },
     "execution_count": 134,
     "metadata": {},
     "output_type": "execute_result"
    }
   ],
   "source": [
    "df_min = final_df.nsmallest(1, 'CV').iloc[0, 0]\n",
    "df_min\n",
    "\n",
    "#least volatile stock is enb"
   ]
  },
  {
   "cell_type": "markdown",
   "id": "f39c9da3",
   "metadata": {},
   "source": [
    "#### Creating a dataframe to store the most and least volatile stock"
   ]
  },
  {
   "cell_type": "code",
   "execution_count": 129,
   "id": "9e4fe099",
   "metadata": {},
   "outputs": [
    {
     "data": {
      "text/html": [
       "<div>\n",
       "<style scoped>\n",
       "    .dataframe tbody tr th:only-of-type {\n",
       "        vertical-align: middle;\n",
       "    }\n",
       "\n",
       "    .dataframe tbody tr th {\n",
       "        vertical-align: top;\n",
       "    }\n",
       "\n",
       "    .dataframe thead th {\n",
       "        text-align: right;\n",
       "    }\n",
       "</style>\n",
       "<table border=\"1\" class=\"dataframe\">\n",
       "  <thead>\n",
       "    <tr style=\"text-align: right;\">\n",
       "      <th></th>\n",
       "      <th>Ticker</th>\n",
       "    </tr>\n",
       "  </thead>\n",
       "  <tbody>\n",
       "    <tr>\n",
       "      <th>0</th>\n",
       "      <td>aapl</td>\n",
       "    </tr>\n",
       "    <tr>\n",
       "      <th>1</th>\n",
       "      <td>enb</td>\n",
       "    </tr>\n",
       "  </tbody>\n",
       "</table>\n",
       "</div>"
      ],
      "text/plain": [
       "  Ticker\n",
       "0   aapl\n",
       "1    enb"
      ]
     },
     "execution_count": 129,
     "metadata": {},
     "output_type": "execute_result"
    }
   ],
   "source": [
    "df_max_min = pd.DataFrame()\n",
    "df_max_min['Ticker'] = [df_max, df_min]\n",
    "df_max_min"
   ]
  },
  {
   "cell_type": "markdown",
   "id": "98d337fd",
   "metadata": {},
   "source": [
    "#### Saving the dataframe containing the most and least volatile stock to a CSV file"
   ]
  },
  {
   "cell_type": "code",
   "execution_count": 130,
   "id": "38e4eaf1",
   "metadata": {},
   "outputs": [],
   "source": [
    "df_max_min.to_csv(\"maxMin.csv\", index=False)"
   ]
  }
 ],
 "metadata": {
  "kernelspec": {
   "display_name": "Python 3 (ipykernel)",
   "language": "python",
   "name": "python3"
  },
  "language_info": {
   "codemirror_mode": {
    "name": "ipython",
    "version": 3
   },
   "file_extension": ".py",
   "mimetype": "text/x-python",
   "name": "python",
   "nbconvert_exporter": "python",
   "pygments_lexer": "ipython3",
   "version": "3.9.12"
  }
 },
 "nbformat": 4,
 "nbformat_minor": 5
}
